{
  "cells": [
    {
      "cell_type": "markdown",
      "source": [
        "# Restful API & Flask"
      ],
      "metadata": {
        "id": "2mYIfusV6XoB"
      },
      "id": "2mYIfusV6XoB"
    },
    {
      "cell_type": "markdown",
      "source": [
        "\n",
        "\n",
        "### 1️. What is a RESTful API?  \n",
        "**Answer:**  \n",
        "A RESTful API is an application programming interface that adheres to the principles of REST (Representational State Transfer), using standard HTTP methods like GET, POST, PUT, DELETE for communication.\n",
        "\n",
        "---\n",
        "\n",
        "### 2️. Explain the concept of API specification?  \n",
        "**Answer:**  \n",
        "An API specification defines how APIs should behave, including the endpoints, methods, request and response formats. Tools like Swagger/OpenAPI are used to document these specifications.\n",
        "\n",
        "---\n",
        "\n",
        "### 3️. What is Flask, and why is it popular for building APIs?  \n",
        "**Answer:**  \n",
        "Flask is a lightweight Python web framework that is easy to use and highly flexible, making it a popular choice for building RESTful APIs quickly and efficiently.\n",
        "\n",
        "---\n",
        "\n",
        "### 4️. What is routing in Flask?  \n",
        "**Answer:**  \n",
        "Routing in Flask refers to mapping URLs to specific functions using decorators like `@app.route()`, allowing different web pages or API endpoints to be served.\n",
        "\n",
        "---\n",
        "\n",
        "### 5️. How do you create a simple Flask application?  \n",
        "**Answer:**  \n",
        "```python\n",
        "from flask import Flask\n",
        "app = Flask(__name__)\n",
        "\n",
        "@app.route('/')\n",
        "def home():\n",
        "    return \"Hello, Flask!\"\n",
        "\n",
        "if __name__ == '__main__':\n",
        "    app.run()\n",
        "```\n",
        "\n",
        "---\n",
        "\n",
        "\n",
        "### 6️. What are HTTP methods used in RESTful APIs?  \n",
        "**Answer:**  \n",
        "Common HTTP methods include:  \n",
        "- `GET`: Retrieve data from the server  \n",
        "- `POST`: Send new data to the server  \n",
        "- `PUT`: Update existing data  \n",
        "- `DELETE`: Remove data  \n",
        "- `PATCH`: Partially update data  \n",
        "These methods help define the type of operation being performed on a resource.\n",
        "\n",
        "---\n",
        "\n",
        "### 7️. What is the purpose of the `@app.route()` decorator in Flask?  \n",
        "**Answer:**  \n",
        "`@app.route()` binds a function to a specific URL. It tells Flask what URL should trigger which function.\n",
        "\n",
        "---\n",
        "\n",
        "### 8️. What is the difference between GET and POST HTTP methods?  \n",
        "**Answer:**  \n",
        "- `GET`: Used to retrieve data. Parameters are passed in the URL and visible.  \n",
        "- `POST`: Used to send data. Data is included in the body and hidden from the URL.  \n",
        "\n",
        "---\n",
        "\n",
        "### 9️. How do you handle errors in Flask APIs?  \n",
        "**Answer:**  \n",
        "Use `@app.errorhandler()` to define custom responses for errors:\n",
        "```python\n",
        "@app.errorhandler(404)\n",
        "def page_not_found(e):\n",
        "    return jsonify({\"error\": \"Resource not found\"}), 404\n",
        "```\n",
        "\n",
        "---\n",
        "\n",
        "### 10. How do you connect Flask to a SQL database?\n",
        "**Answer:**\n",
        "Set the database URI in Flask configuration and use Flask-SQLAlchemy:\n",
        "```python\n",
        "app.config['SQLALCHEMY_DATABASE_URI'] = 'sqlite:///database.db'\n",
        "db = SQLAlchemy(app)\n",
        "```\n",
        "\n",
        "---\n",
        "\n",
        "### 11. What is the role of Flask-SQLAlchemy?\n",
        "**Answer:**\n",
        "It integrates SQLAlchemy with Flask, providing an ORM to manage database models and queries in an object-oriented way.\n",
        "\n",
        "---\n",
        "\n",
        "### 12. What are Flask blueprints, and how are they useful?\n",
        "**Answer:**\n",
        "Blueprints allow the organization of Flask apps into components or modules. Useful in large applications for modular coding.\n",
        "\n",
        "---\n",
        "\n",
        "### 13. What is the purpose of Flask's request object?\n",
        "**Answer:**\n",
        "request provides access to incoming request data such as form fields, JSON payloads, and headers.\n",
        "\n",
        "---\n",
        "\n",
        "###14. How do you create a RESTful API endpoint using Flask?\n",
        "**Answer:**\n",
        "\n",
        "```python\n",
        "@app.route('/api/items', methods=['GET'])\n",
        "def get_items():\n",
        "    return jsonify({\"items\": [\"Item1\", \"Item2\"]})\n",
        "```\n",
        "\n",
        "---\n",
        "\n",
        "### 15. What is the purpose of Flask's jsonify() function?\n",
        "**Answer:**\n",
        "- jsonify() converts Python dictionaries into JSON-formatted responses with appropriate headers.\n",
        "---\n",
        "\n",
        "### 16. Explain Flask’s url_for() function?\n",
        "**Answer:**\n",
        "url_for() generates URLs for a function by its name, making routes dynamic and avoiding hardcoding URLs.\n",
        "```python\n",
        "url_for('home')\n",
        "```\n",
        "---\n",
        "\n",
        "### 17. How does Flask handle static files (CSS, JavaScript, etc.)?\n",
        "**Answer:**\n",
        "Flask serves static files from the static/ folder. You can link them in HTML as:\n",
        "\n",
        "```python\n",
        "<link rel=\"stylesheet\" href=\"{{ url_for('static', filename='style.css') }}\">\n",
        "```\n",
        "\n",
        "---\n",
        "### 18. What is an API specification, and how does it help in building a Flask API?\n",
        "**Answer:**\n",
        "- It defines endpoints, methods, request/response formats. Useful for documentation, client integration, and consistent development.\n",
        "---\n",
        "\n",
        "### 19. What are HTTP status codes, and why are they important in a Flask API?\n",
        "**Answer:**\n",
        "They indicate the result of a request:\n",
        "\n",
        "- 200 OK: Success\n",
        "\n",
        "- 400 Bad Request: Client error\n",
        "\n",
        "- 404 Not Found: Resource missing\n",
        "\n",
        "- 500 Internal Server Error: Server failure\n",
        "They help users and developers understand the response state.\n",
        "---\n",
        "\n",
        "### 20. How do you handle POST requests in Flask?\n",
        "**Answer:**\n",
        "\n",
        "```python\n",
        "@app.route('/submit', methods=['POST'])\n",
        "def submit():\n",
        "    data = request.json\n",
        "    return jsonify({\"received\": data})\n",
        "```\n",
        "\n",
        "---\n",
        "### 21. How would you secure a Flask API?\n",
        "**Answer:**\n",
        "\n",
        "- Use HTTPS\n",
        "\n",
        "- Input validation\n",
        "\n",
        "- Authentication (Token/JWT)\n",
        "\n",
        "- Rate limiting\n",
        "\n",
        "- Hide sensitive error messages\n",
        "---\n",
        "\n",
        "### 22. What is the significance of the Flask-RESTful extension?\n",
        "**Answer:**\n",
        "- It adds powerful REST API support with class-based views, automatic routing, request parsing, and more.\n",
        "---\n",
        "\n",
        "### 23. What is the role of Flask’s session object?\n",
        "**Answer:**\n",
        "session stores user-specific data across requests using cookies. It’s useful for login sessions and user state management.\n",
        "\n",
        "---"
      ],
      "metadata": {
        "id": "C7BcXFrX6lWK"
      },
      "id": "C7BcXFrX6lWK"
    },
    {
      "cell_type": "code",
      "execution_count": 18,
      "id": "c37dc706",
      "metadata": {
        "id": "c37dc706"
      },
      "outputs": [],
      "source": [
        "# 1. How do you create a basic Flask application?\n",
        "from flask import Flask\n",
        "\n",
        "app = Flask(__name__)\n",
        "\n",
        "@app.route('/')\n",
        "def home():\n",
        "    return \"Hello, Flask!\"\n",
        "\n",
        "# In a local environment using: app.run(debug=True)"
      ]
    },
    {
      "cell_type": "markdown",
      "id": "375616d0",
      "metadata": {
        "id": "375616d0"
      },
      "source": [
        "### 2. How do you serve static files like images or CSS in Flask?"
      ]
    },
    {
      "cell_type": "markdown",
      "id": "8ef2f0fc",
      "metadata": {
        "id": "8ef2f0fc"
      },
      "source": [
        "Place files in the `static` folder, e.g., `static/style.css`.  \n",
        "Then reference them in your HTML like:\n",
        "\n",
        "```html\n",
        "<link rel=\"stylesheet\" href=\"{{ url_for('static', filename='style.css') }}\">\n",
        "```"
      ]
    },
    {
      "cell_type": "code",
      "execution_count": 19,
      "id": "efbaea32",
      "metadata": {
        "id": "efbaea32"
      },
      "outputs": [],
      "source": [
        "# 3. How do you define different routes with different HTTP methods in Flask?\n",
        "from flask import request\n",
        "\n",
        "@app.route('/submit', methods=['GET', 'POST'])\n",
        "def submit():\n",
        "    if request.method == 'POST':\n",
        "        return \"Data submitted!\"\n",
        "    return \"Submit form here.\""
      ]
    },
    {
      "cell_type": "code",
      "execution_count": null,
      "id": "b9ffa290",
      "metadata": {
        "id": "b9ffa290"
      },
      "outputs": [],
      "source": [
        "#4. How do you render HTML templates in Flask?\n",
        "from flask import render_template\n",
        "\n",
        "@app.route('/hello')\n",
        "def hello():\n",
        "    return render_template('hello.html')  # Place 'hello.html' in 'templates/' folder"
      ]
    },
    {
      "cell_type": "code",
      "execution_count": null,
      "id": "9140e414",
      "metadata": {
        "id": "9140e414"
      },
      "outputs": [],
      "source": [
        "#5. How can you generate URLs for routes in Flask using url_for?\n",
        "from flask import url_for, redirect\n",
        "\n",
        "@app.route('/profile')\n",
        "def profile():\n",
        "    return \"User profile\"\n",
        "\n",
        "@app.route('/go_to_profile')\n",
        "def go_to_profile():\n",
        "    return redirect(url_for('profile'))"
      ]
    },
    {
      "cell_type": "code",
      "execution_count": null,
      "id": "a1d691a1",
      "metadata": {
        "id": "a1d691a1"
      },
      "outputs": [],
      "source": [
        "#6. How do you handle forms in Flask?\n",
        "from flask import request\n",
        "\n",
        "@app.route('/form', methods=['GET', 'POST'])\n",
        "def form():\n",
        "    if request.method == 'POST':\n",
        "        name = request.form['name']\n",
        "        return f\"Hello, {name}!\"\n",
        "    return '''\n",
        "        <form method=\"post\">\n",
        "            Name: <input type=\"text\" name=\"name\">\n",
        "            <input type=\"submit\">\n",
        "        </form>\n",
        "    '''"
      ]
    },
    {
      "cell_type": "code",
      "execution_count": null,
      "id": "60f74d31",
      "metadata": {
        "id": "60f74d31"
      },
      "outputs": [],
      "source": [
        "#7. How can you validate form data in Flask?\n",
        "@app.route('/validate', methods=['POST'])\n",
        "def validate():\n",
        "    name = request.form.get('name')\n",
        "    if not name:\n",
        "        return \"Name is required\", 400\n",
        "    return f\"Welcome {name}\""
      ]
    },
    {
      "cell_type": "code",
      "execution_count": null,
      "id": "24521c37",
      "metadata": {
        "id": "24521c37"
      },
      "outputs": [],
      "source": [
        "# 8. How do you manage sessions in Flask?\n",
        "from flask import session\n",
        "\n",
        "app.secret_key = 'your_secret_key'\n",
        "\n",
        "@app.route('/login')\n",
        "def login():\n",
        "    session['user'] = 'admin'\n",
        "    return \"Logged in!\"\n",
        "\n",
        "@app.route('/logout')\n",
        "def logout():\n",
        "    session.pop('user', None)\n",
        "    return \"Logged out!\""
      ]
    },
    {
      "cell_type": "code",
      "execution_count": null,
      "id": "7cc51a38",
      "metadata": {
        "id": "7cc51a38"
      },
      "outputs": [],
      "source": [
        "# 9. How do you redirect to a different route in Flask?\n",
        "from flask import redirect\n",
        "\n",
        "@app.route('/old')\n",
        "def old():\n",
        "    return redirect('/new')\n",
        "\n",
        "@app.route('/new')\n",
        "def new():\n",
        "    return \"This is the new page\""
      ]
    },
    {
      "cell_type": "code",
      "execution_count": null,
      "id": "2f0dd08a",
      "metadata": {
        "id": "2f0dd08a"
      },
      "outputs": [],
      "source": [
        "# 10. How do you handle errors in Flask (e.g., 404)?\n",
        "@app.errorhandler(404)\n",
        "def page_not_found(e):\n",
        "    return \"Page not found!\", 404"
      ]
    },
    {
      "cell_type": "code",
      "execution_count": null,
      "id": "956c46d3",
      "metadata": {
        "id": "956c46d3"
      },
      "outputs": [],
      "source": [
        "# 11. How do you structure a Flask app using Blueprints?\n",
        "from flask import Blueprint\n",
        "\n",
        "admin = Blueprint('admin', __name__)\n",
        "\n",
        "@admin.route('/admin')\n",
        "def admin_home():\n",
        "    return \"Admin area\"\n",
        "\n",
        "# Register in main app:\n",
        "# app.register_blueprint(admin)"
      ]
    },
    {
      "cell_type": "code",
      "execution_count": null,
      "id": "551904ff",
      "metadata": {
        "id": "551904ff"
      },
      "outputs": [],
      "source": [
        "# 12. How do you define a custom Jinja filter in Flask?\n",
        "@app.template_filter('reverse')\n",
        "def reverse_filter(s):\n",
        "    return s[::-1]\n",
        "\n",
        "# Use in template as: {{ 'hello' | reverse }}"
      ]
    },
    {
      "cell_type": "code",
      "execution_count": null,
      "id": "9b6ea9ab",
      "metadata": {
        "id": "9b6ea9ab"
      },
      "outputs": [],
      "source": [
        "# 13. How can you redirect with query parameters in Flask?\n",
        "@app.route('/redirect_with_query')\n",
        "def redirect_with_query():\n",
        "    return redirect(url_for('target', name='Sneha'))\n",
        "\n",
        "@app.route('/target')\n",
        "def target():\n",
        "    name = request.args.get('name')\n",
        "    return f\"Hello {name}!\""
      ]
    },
    {
      "cell_type": "code",
      "execution_count": null,
      "id": "aacbf85a",
      "metadata": {
        "id": "aacbf85a"
      },
      "outputs": [],
      "source": [
        "# 14. How do you return JSON responses in Flask?\n",
        "from flask import jsonify\n",
        "\n",
        "@app.route('/json')\n",
        "def json_response():\n",
        "    return jsonify({'name': 'Sneha', 'status': 'active'})"
      ]
    },
    {
      "cell_type": "code",
      "execution_count": null,
      "id": "101abc15",
      "metadata": {
        "id": "101abc15"
      },
      "outputs": [],
      "source": [
        "# 15. How do you capture URL parameters in Flask?\n",
        "@app.route('/user/<username>')\n",
        "def user_profile(username):\n",
        "    return f\"User: {username}\""
      ]
    }
  ],
  "metadata": {
    "colab": {
      "provenance": []
    },
    "language_info": {
      "name": "python"
    },
    "kernelspec": {
      "name": "python3",
      "display_name": "Python 3"
    }
  },
  "nbformat": 4,
  "nbformat_minor": 5
}